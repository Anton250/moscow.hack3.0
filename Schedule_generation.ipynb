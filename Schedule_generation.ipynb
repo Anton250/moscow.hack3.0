{
  "nbformat": 4,
  "nbformat_minor": 0,
  "metadata": {
    "colab": {
      "name": "Schedule generation.ipynb",
      "provenance": [],
      "collapsed_sections": [],
      "include_colab_link": true
    },
    "kernelspec": {
      "name": "python3",
      "display_name": "Python 3"
    }
  },
  "cells": [
    {
      "cell_type": "markdown",
      "metadata": {
        "id": "view-in-github",
        "colab_type": "text"
      },
      "source": [
        "<a href=\"https://colab.research.google.com/github/Ornstein89/FoxhoundTeam_MoscowHack2019/blob/master/Schedule_generation.ipynb\" target=\"_parent\"><img src=\"https://colab.research.google.com/assets/colab-badge.svg\" alt=\"Open In Colab\"/></a>"
      ]
    },
    {
      "cell_type": "code",
      "metadata": {
        "id": "5zBS-hPfT_UK",
        "colab_type": "code",
        "colab": {}
      },
      "source": [
        "import random\n",
        "#academicPlan[[год обучения Буква],[Название предмета,кол во уроков\n",
        "#teacher[ФИО,Предмет,Количество уроков]\n",
        "def setTimeTable(academicPlan:[str,[str,int]],teachers:[str,[str,int]]):\n",
        "    academicPlanLesson = dict()\n",
        "    academicPlanLessonClass = dict()\n",
        "    for clas in academicPlan:\n",
        "        academicPlanLessonClass.update({clas[0]: 0})\n",
        "        for lessons in clas[1]:\n",
        "            academicPlanLessonClass[clas[0]] += lessons[1]\n",
        "            try:\n",
        "                academicPlanLesson[lessons[0]] += lessons[1]\n",
        "            except:\n",
        "                academicPlanLesson.update({lessons[0]:lessons[1]})\n",
        "    teacherLesson = dict()\n",
        "    for teacher in teachers:\n",
        "        for lessons in teacher[1]:\n",
        "            try:\n",
        "                teacherLesson[lessons[0]] += lessons[1]\n",
        "            except:\n",
        "                teacherLesson.update({lessons[0]: lessons[1]})\n",
        "    watchLack = dict()\n",
        "    for Lesson in academicPlanLesson:\n",
        "        try:\n",
        "            if teacherLesson[Lesson] < academicPlanLesson[Lesson]:\n",
        "                watchLack.update({Lesson:academicPlanLesson[Lesson] - teacherLesson[Lesson]})\n",
        "        except:\n",
        "            watchLack.update({Lesson: academicPlanLesson[Lesson]})\n",
        "    if watchLack == dict():\n",
        "        return watchLack\n",
        "    schedule = [] # [str,[str,[[int,str,str]]]] [класс,[день недели,[урок,Предмет,препод]]\n",
        "    index = 0\n",
        "    for clas in academicPlan:\n",
        "        schedule.append([clas[0],[]])\n",
        "        index2 = 0;\n",
        "        for i in range(5,0,-1):\n",
        "            schedule[index][1].append([dayOfweek(i),[]])\n",
        "            lessonInDay = round(academicPlanLessonClass[clas[0]] / i)\n",
        "            academicPlanLessonClass[clas[0]] -= lessonInDay\n",
        "            startLesson = 0\n",
        "            while startLesson + 1 < lessonInDay:\n",
        "                random.seed()\n",
        "                rand = random.randint(0,len(clas[1])-1)\n",
        "                lesson = clas[1][rand]\n",
        "                if lesson[1] >= 2 and startLesson + 2 <= lessonInDay:\n",
        "                    schedule[index][1][index2][1].append(lesson[0])\n",
        "                    schedule[index][1][index2][1].append(lesson[0])\n",
        "                    startLesson+=2\n",
        "                    clas[1][rand][1] -= 2\n",
        "                    if lesson[1] <= 0:\n",
        "                        clas[1].pop(rand)\n",
        "                else:\n",
        "                    schedule[index][1][index2][1].append(lesson[0])\n",
        "                    startLesson+=1\n",
        "                    clas[1][rand][1] -= 1\n",
        "                    if lesson[1] <= 0:\n",
        "                        clas[1].pop(rand)\n",
        "            index2+=1\n",
        "        index += 1\n",
        "    return schedule\n",
        "\n",
        "def dayOfweek(a):\n",
        "    if a == 5:\n",
        "        return \"Понедельник\"\n",
        "    if a == 4:\n",
        "        return \"Вторник\"\n",
        "    if a == 3:\n",
        "        return \"Среда\"\n",
        "    if a == 2:\n",
        "        return \"Четверг\"\n",
        "    if a == 1:\n",
        "        return \"Пятница\"\n",
        "\n"
      ],
      "execution_count": 0,
      "outputs": []
    },
    {
      "cell_type": "code",
      "metadata": {
        "id": "uTlSSGRkUD7I",
        "colab_type": "code",
        "colab": {}
      },
      "source": [
        "acdemicPlan = [[\"1 A\",[[\"Математика\",2],[\"Русский\",4],[\"Английский\",4],[\"Физра\",2],[\"Обж\",2],[\"Инфа\",4],[\"Родной язык\",2],[\"Литература\",2]]],[\"1 B\",[[\"Математика\",5],[\"Английский\",5]]]]\n",
        "Teacher = [[\"Иванова\",[[\"Русский\",10],[\"Математика\",4]]],[\"Петрова\",[[\"Русский\",1],[\"Английский\",6]]]]"
      ],
      "execution_count": 0,
      "outputs": []
    },
    {
      "cell_type": "code",
      "metadata": {
        "id": "srv7jL9lUJ4E",
        "colab_type": "code",
        "colab": {}
      },
      "source": [
        "b = setTimeTable(acdemicPlan,Teacher)"
      ],
      "execution_count": 0,
      "outputs": []
    },
    {
      "cell_type": "code",
      "metadata": {
        "id": "1sjN7xgJUKkS",
        "colab_type": "code",
        "colab": {}
      },
      "source": [
        "import numpy as np\n",
        "c = np.array(b)"
      ],
      "execution_count": 0,
      "outputs": []
    },
    {
      "cell_type": "code",
      "metadata": {
        "id": "CEbCTEz5ULQ1",
        "colab_type": "code",
        "colab": {}
      },
      "source": [
        "import pandas as pd\n",
        "df = pd.DataFrame(c[0][1])"
      ],
      "execution_count": 0,
      "outputs": []
    },
    {
      "cell_type": "code",
      "metadata": {
        "id": "frCEOkW9Vwno",
        "colab_type": "code",
        "outputId": "d53c5fa4-56fa-41df-df64-7214b2ef6cd4",
        "colab": {
          "base_uri": "https://localhost:8080/",
          "height": 204
        }
      },
      "source": [
        "df"
      ],
      "execution_count": 0,
      "outputs": [
        {
          "output_type": "execute_result",
          "data": {
            "text/html": [
              "<div>\n",
              "<style scoped>\n",
              "    .dataframe tbody tr th:only-of-type {\n",
              "        vertical-align: middle;\n",
              "    }\n",
              "\n",
              "    .dataframe tbody tr th {\n",
              "        vertical-align: top;\n",
              "    }\n",
              "\n",
              "    .dataframe thead th {\n",
              "        text-align: right;\n",
              "    }\n",
              "</style>\n",
              "<table border=\"1\" class=\"dataframe\">\n",
              "  <thead>\n",
              "    <tr style=\"text-align: right;\">\n",
              "      <th></th>\n",
              "      <th>0</th>\n",
              "      <th>1</th>\n",
              "    </tr>\n",
              "  </thead>\n",
              "  <tbody>\n",
              "    <tr>\n",
              "      <th>0</th>\n",
              "      <td>Понедельник</td>\n",
              "      <td>[Родной язык, Родной язык, Физра, Физра]</td>\n",
              "    </tr>\n",
              "    <tr>\n",
              "      <th>1</th>\n",
              "      <td>Вторник</td>\n",
              "      <td>[Математика, Математика, Инфа, Инфа]</td>\n",
              "    </tr>\n",
              "    <tr>\n",
              "      <th>2</th>\n",
              "      <td>Среда</td>\n",
              "      <td>[Английский, Английский, Английский, Английский]</td>\n",
              "    </tr>\n",
              "    <tr>\n",
              "      <th>3</th>\n",
              "      <td>Четверг</td>\n",
              "      <td>[Обж, Обж, Инфа, Инфа]</td>\n",
              "    </tr>\n",
              "    <tr>\n",
              "      <th>4</th>\n",
              "      <td>Пятница</td>\n",
              "      <td>[Литература, Литература, Русский, Русский]</td>\n",
              "    </tr>\n",
              "  </tbody>\n",
              "</table>\n",
              "</div>"
            ],
            "text/plain": [
              "             0                                                 1\n",
              "0  Понедельник          [Родной язык, Родной язык, Физра, Физра]\n",
              "1      Вторник              [Математика, Математика, Инфа, Инфа]\n",
              "2        Среда  [Английский, Английский, Английский, Английский]\n",
              "3      Четверг                            [Обж, Обж, Инфа, Инфа]\n",
              "4      Пятница        [Литература, Литература, Русский, Русский]"
            ]
          },
          "metadata": {
            "tags": []
          },
          "execution_count": 131
        }
      ]
    },
    {
      "cell_type": "code",
      "metadata": {
        "id": "AW311q5jXc5U",
        "colab_type": "code",
        "colab": {}
      },
      "source": [
        ""
      ],
      "execution_count": 0,
      "outputs": []
    }
  ]
}